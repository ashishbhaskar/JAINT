{
 "cells": [
  {
   "cell_type": "code",
   "execution_count": 34,
   "metadata": {},
   "outputs": [],
   "source": [
    "import pandas as pd\n",
    "import numpy as np\n",
    "import scipy.sparse as sps\n",
    "from scipy import sparse\n",
    "from sklearn.cluster import KMeans\n",
    "from numpy import linalg\n",
    "from scipy.linalg import norm\n",
    "import math\n",
    "import matplotlib.pyplot as plt\n",
    "import time\n",
    "import seaborn as sns\n",
    "from matplotlib import colors"
   ]
  },
  {
   "cell_type": "code",
   "execution_count": 35,
   "metadata": {},
   "outputs": [],
   "source": [
    "def heatmap(DataFrame, cmap_ , color_pallete_label, x_label, y_label, Title, size):\n",
    "    plt.figure(figsize= size)\n",
    "    plt.suptitle(Title)\n",
    "    ax = sns.heatmap(DataFrame ,  annot=True , cmap = cmap_, cbar_kws= {'label': color_pallete_label}\n",
    "        )\n",
    "    ax.set(xlabel= x_label, ylabel= y_label)\n",
    "    plt.show()\n",
    "def heatmap_noannotation(DataFrame, cmap_ , color_pallete_label, x_label, y_label, Title, size):\n",
    "    plt.figure(figsize= size)\n",
    "    plt.suptitle(Title)\n",
    "    ax = sns.heatmap(DataFrame ,  annot=False , cmap = cmap_, cbar_kws= {'label': color_pallete_label}\n",
    "        )\n",
    "    ax.set(xlabel= x_label, ylabel= y_label)\n",
    "    plt.show()\n",
    "    \n",
    "def Custom_Visualization(DataFrame, cmap , color_pallete_label, x_label, y_label, Title, size, bounds):\n",
    "    plt.figure(figsize=size)\n",
    "    plt.suptitle(Title)\n",
    "    norm = colors.BoundaryNorm(bounds, cmap.N)\n",
    "    ax = sns.heatmap(DataFrame ,  annot=False, cmap = cmap, norm=norm, cbar_kws={'label': color_pallete_label}\n",
    "        )\n",
    "    ax.set(xlabel= x_label, ylabel= y_label)\n",
    "    plt.show()\n",
    "    \n",
    "def remove_tick_labels(ax):\n",
    "    labels = [item.get_text() for item in ax.get_xticklabels()]\n",
    "    empty_string_labels = ['']*len(labels)\n",
    "    ax.set_xticklabels(empty_string_labels)\n",
    "    labels = [item.get_text() for item in ax.get_yticklabels()]\n",
    "    empty_string_labels = ['']*len(labels)\n",
    "    ax.set_yticklabels(empty_string_labels)\n"
   ]
  },
  {
   "cell_type": "code",
   "execution_count": 36,
   "metadata": {},
   "outputs": [],
   "source": [
    "def initialize_OD (Sample_OD_link):\n",
    "    Sample_OD = pd.read_csv(Sample_OD_link, index_col = 0, delimiter = '\\t')\n",
    "    Sample_OD.index = Sample_OD.index.map(str)\n",
    "    for col in Sample_OD.columns:\n",
    "        Sample_OD[col].values[:] = 0\n",
    "    return (Sample_OD)"
   ]
  },
  {
   "cell_type": "code",
   "execution_count": 66,
   "metadata": {},
   "outputs": [],
   "source": [
    "import numpy as np\n",
    "import scipy.sparse as sp\n",
    "import cupy as cp\n",
    "\n",
    "def calculate_rmse(mat1, mat2):\n",
    "    # Ensure matrices have the same shape\n",
    "    if mat1.shape != mat2.shape:\n",
    "        raise ValueError(\"Matrices must have the same shape\")\n",
    "\n",
    "    # Calculate element-wise squared difference\n",
    "    squared_diff = np.power(mat1 - mat2, 2) \n",
    "\n",
    "    # Calculate overall RMSE\n",
    "    overall_rmse = cp.sqrt(squared_diff.sum() / (mat1.nnz + mat2.nnz))\n",
    "    \n",
    "    # Calculate RMSE of non-zero entries in mat1\n",
    "    non_zero_indices = mat1.nonzero()\n",
    "    non_zero_squared_diff = squared_diff[non_zero_indices]\n",
    "    non_zero_rmse = cp.sqrt(non_zero_squared_diff.sum() / mat1.nnz)\n",
    "    \n",
    "    return round(overall_rmse.item(), 4), round(non_zero_rmse.item(), 4)\n",
    "\n",
    "def calculate_rmse(mat1, mat2):\n",
    "    # Ensure matrices have the same shape\n",
    "\n",
    "    # Calculate element-wise squared difference\n",
    "    squared_diff = np.power(mat1 - mat2, 2) \n",
    "\n",
    "    # Calculate overall RMSE\n",
    "    overall_rmse = cp.sqrt(squared_diff.sum() / (squared_diff.shape[0] * squared_diff.shape[1]) )\n",
    "    \n",
    "    return round(overall_rmse.item(), 4)"
   ]
  },
  {
   "cell_type": "markdown",
   "metadata": {},
   "source": [
    "# Import Matrices"
   ]
  },
  {
   "cell_type": "code",
   "execution_count": 67,
   "metadata": {},
   "outputs": [],
   "source": [
    "dir = r'C:\\Users\\n10680535\\Queensland University of Technology\\Shubham Sharma - Shubham Staff Account\\Paper-Last\\P8 processed'\n",
    "dir1 = r'C:\\Users\\n10680535\\Queensland University of Technology\\Shubham Sharma - Shubham Staff Account\\Paper-Last\\P5 processed'\n",
    "import os"
   ]
  },
  {
   "cell_type": "code",
   "execution_count": 68,
   "metadata": {},
   "outputs": [
    {
     "data": {
      "text/plain": [
       "array([106, 167,  72,  92, 197,  96, 116,  94,  61,  24, 199,  21,  66,\n",
       "       170,  47, 123, 162,   3,  15, 134, 156,  54,  49,  57,  13, 186,\n",
       "       147,  19,  76,  77, 117,  68,  81,  56,  36, 183,  88, 101, 153,\n",
       "       193, 159,  38,   1,  87,  53,   7, 169,  41, 198, 104,  55,  23,\n",
       "       176, 120,  93, 190,  51,  45, 179, 107, 137,  14, 142,  60, 164,\n",
       "        97, 158,  67,  22,   4, 182,   0,  16,  83, 131,  12,  37, 145,\n",
       "       115, 174, 126, 140, 168, 141, 161,  86, 108,  70,  91, 185, 110,\n",
       "        80, 122,  27, 127, 177,  73,  74,  84, 154,  20, 125, 111,  42,\n",
       "       112, 135, 144, 165, 184,  10, 139,  44, 150,   8, 105,  29, 191,\n",
       "        63,  39,  11, 119,  79,  17, 195,  62, 129,  89, 171,  50,  59,\n",
       "       181, 173,   2, 160, 130, 172, 118,  48,  34,  46, 146,  28, 113,\n",
       "       143, 157,  98, 192,  26, 133, 103, 149, 151, 194,  69, 187,  65,\n",
       "       109,  35, 196,  82,  71,  78,   6, 128, 102, 166, 175,  25, 152,\n",
       "       155,   9,  52, 138,  43,  85,  95,  90, 148,  40, 114,   5, 163,\n",
       "        75, 100,  64, 136,  99,  31,  30, 180, 121, 178, 189, 132, 124,\n",
       "        33,  18,  58, 188,  32], dtype=int64)"
      ]
     },
     "execution_count": 68,
     "metadata": {},
     "output_type": "execute_result"
    }
   ],
   "source": [
    "shuffled_ids = pd.read_csv(r'C:\\Users\\n10680535\\Queensland University of Technology\\Shubham Sharma - Shubham Staff Account\\Paper-Last\\Final Analysis\\shuffledids.csv')['0'].values\n",
    "shuffled_ids"
   ]
  },
  {
   "cell_type": "code",
   "execution_count": 69,
   "metadata": {},
   "outputs": [],
   "source": [
    "training_days = shuffled_ids[0:170]"
   ]
  },
  {
   "cell_type": "code",
   "execution_count": 70,
   "metadata": {},
   "outputs": [
    {
     "data": {
      "text/plain": [
       "array([106, 167,  72,  92, 197,  96, 116,  94,  61,  24, 199,  21,  66,\n",
       "       170,  47, 123, 162,   3,  15, 134, 156,  54,  49,  57,  13, 186,\n",
       "       147,  19,  76,  77, 117,  68,  81,  56,  36, 183,  88, 101, 153,\n",
       "       193, 159,  38,   1,  87,  53,   7, 169,  41, 198, 104,  55,  23,\n",
       "       176, 120,  93, 190,  51,  45, 179, 107, 137,  14, 142,  60, 164,\n",
       "        97, 158,  67,  22,   4, 182,   0,  16,  83, 131,  12,  37, 145,\n",
       "       115, 174, 126, 140, 168, 141, 161,  86, 108,  70,  91, 185, 110,\n",
       "        80, 122,  27, 127, 177,  73,  74,  84, 154,  20, 125, 111,  42,\n",
       "       112, 135, 144, 165, 184,  10, 139,  44, 150,   8, 105,  29, 191,\n",
       "        63,  39,  11, 119,  79,  17, 195,  62, 129,  89, 171,  50,  59,\n",
       "       181, 173,   2, 160, 130, 172, 118,  48,  34,  46, 146,  28, 113,\n",
       "       143, 157,  98, 192,  26, 133, 103, 149, 151, 194,  69, 187,  65,\n",
       "       109,  35, 196,  82,  71,  78,   6, 128, 102, 166, 175,  25, 152,\n",
       "       155], dtype=int64)"
      ]
     },
     "execution_count": 70,
     "metadata": {},
     "output_type": "execute_result"
    }
   ],
   "source": [
    "training_days"
   ]
  },
  {
   "cell_type": "code",
   "execution_count": 71,
   "metadata": {},
   "outputs": [],
   "source": [
    "testing_days = shuffled_ids[170:200]"
   ]
  },
  {
   "cell_type": "code",
   "execution_count": 97,
   "metadata": {},
   "outputs": [
    {
     "data": {
      "text/html": [
       "<div>\n",
       "<style scoped>\n",
       "    .dataframe tbody tr th:only-of-type {\n",
       "        vertical-align: middle;\n",
       "    }\n",
       "\n",
       "    .dataframe tbody tr th {\n",
       "        vertical-align: top;\n",
       "    }\n",
       "\n",
       "    .dataframe thead th {\n",
       "        text-align: right;\n",
       "    }\n",
       "</style>\n",
       "<table border=\"1\" class=\"dataframe\">\n",
       "  <thead>\n",
       "    <tr style=\"text-align: right;\">\n",
       "      <th></th>\n",
       "      <th></th>\n",
       "      <th>16675991_16676063</th>\n",
       "      <th>16675991_16676126</th>\n",
       "      <th>16675991_16676131</th>\n",
       "      <th>16675991_16676179</th>\n",
       "      <th>16675991_16676307</th>\n",
       "      <th>16675991_16676575</th>\n",
       "      <th>16675991_16676578</th>\n",
       "      <th>16675991_16676581</th>\n",
       "      <th>16675991_16676600</th>\n",
       "      <th>16675991_16676625</th>\n",
       "      <th>...</th>\n",
       "      <th>16676628_16676116</th>\n",
       "      <th>16676628_16676126</th>\n",
       "      <th>16676628_16676131</th>\n",
       "      <th>16676628_16676156</th>\n",
       "      <th>16676628_16676575</th>\n",
       "      <th>16676628_16676578</th>\n",
       "      <th>16676628_16676581</th>\n",
       "      <th>16676628_16676600</th>\n",
       "      <th>16676628_16676623</th>\n",
       "      <th>16676628_16676625</th>\n",
       "    </tr>\n",
       "    <tr>\n",
       "      <th>Sample</th>\n",
       "      <th>period</th>\n",
       "      <th></th>\n",
       "      <th></th>\n",
       "      <th></th>\n",
       "      <th></th>\n",
       "      <th></th>\n",
       "      <th></th>\n",
       "      <th></th>\n",
       "      <th></th>\n",
       "      <th></th>\n",
       "      <th></th>\n",
       "      <th></th>\n",
       "      <th></th>\n",
       "      <th></th>\n",
       "      <th></th>\n",
       "      <th></th>\n",
       "      <th></th>\n",
       "      <th></th>\n",
       "      <th></th>\n",
       "      <th></th>\n",
       "      <th></th>\n",
       "      <th></th>\n",
       "    </tr>\n",
       "  </thead>\n",
       "  <tbody>\n",
       "    <tr>\n",
       "      <th rowspan=\"5\" valign=\"top\">0</th>\n",
       "      <th>1</th>\n",
       "      <td>0.0</td>\n",
       "      <td>0.0</td>\n",
       "      <td>0.0</td>\n",
       "      <td>0.0</td>\n",
       "      <td>0.0</td>\n",
       "      <td>0.0</td>\n",
       "      <td>0.0</td>\n",
       "      <td>0.0</td>\n",
       "      <td>0.0</td>\n",
       "      <td>0.0</td>\n",
       "      <td>...</td>\n",
       "      <td>0.0</td>\n",
       "      <td>0.0</td>\n",
       "      <td>0.0</td>\n",
       "      <td>0.0</td>\n",
       "      <td>0.0</td>\n",
       "      <td>0.0</td>\n",
       "      <td>0.0</td>\n",
       "      <td>0.0</td>\n",
       "      <td>0.0</td>\n",
       "      <td>0.0</td>\n",
       "    </tr>\n",
       "    <tr>\n",
       "      <th>2</th>\n",
       "      <td>0.0</td>\n",
       "      <td>0.0</td>\n",
       "      <td>0.0</td>\n",
       "      <td>0.0</td>\n",
       "      <td>0.0</td>\n",
       "      <td>0.0</td>\n",
       "      <td>0.0</td>\n",
       "      <td>0.0</td>\n",
       "      <td>0.0</td>\n",
       "      <td>0.0</td>\n",
       "      <td>...</td>\n",
       "      <td>0.0</td>\n",
       "      <td>0.0</td>\n",
       "      <td>0.0</td>\n",
       "      <td>0.0</td>\n",
       "      <td>0.0</td>\n",
       "      <td>0.0</td>\n",
       "      <td>0.0</td>\n",
       "      <td>0.0</td>\n",
       "      <td>0.0</td>\n",
       "      <td>0.0</td>\n",
       "    </tr>\n",
       "    <tr>\n",
       "      <th>3</th>\n",
       "      <td>0.0</td>\n",
       "      <td>0.0</td>\n",
       "      <td>0.0</td>\n",
       "      <td>0.0</td>\n",
       "      <td>0.0</td>\n",
       "      <td>0.0</td>\n",
       "      <td>0.0</td>\n",
       "      <td>0.0</td>\n",
       "      <td>0.0</td>\n",
       "      <td>0.0</td>\n",
       "      <td>...</td>\n",
       "      <td>0.0</td>\n",
       "      <td>0.0</td>\n",
       "      <td>0.0</td>\n",
       "      <td>0.0</td>\n",
       "      <td>0.0</td>\n",
       "      <td>0.0</td>\n",
       "      <td>0.0</td>\n",
       "      <td>0.0</td>\n",
       "      <td>0.0</td>\n",
       "      <td>0.0</td>\n",
       "    </tr>\n",
       "    <tr>\n",
       "      <th>4</th>\n",
       "      <td>0.0</td>\n",
       "      <td>0.0</td>\n",
       "      <td>0.0</td>\n",
       "      <td>0.0</td>\n",
       "      <td>0.0</td>\n",
       "      <td>0.0</td>\n",
       "      <td>0.0</td>\n",
       "      <td>0.0</td>\n",
       "      <td>0.0</td>\n",
       "      <td>0.0</td>\n",
       "      <td>...</td>\n",
       "      <td>0.0</td>\n",
       "      <td>0.0</td>\n",
       "      <td>0.0</td>\n",
       "      <td>0.0</td>\n",
       "      <td>0.0</td>\n",
       "      <td>0.0</td>\n",
       "      <td>0.0</td>\n",
       "      <td>0.0</td>\n",
       "      <td>0.0</td>\n",
       "      <td>0.0</td>\n",
       "    </tr>\n",
       "    <tr>\n",
       "      <th>5</th>\n",
       "      <td>0.0</td>\n",
       "      <td>0.0</td>\n",
       "      <td>0.0</td>\n",
       "      <td>0.0</td>\n",
       "      <td>0.0</td>\n",
       "      <td>0.0</td>\n",
       "      <td>0.0</td>\n",
       "      <td>0.0</td>\n",
       "      <td>0.0</td>\n",
       "      <td>0.0</td>\n",
       "      <td>...</td>\n",
       "      <td>0.0</td>\n",
       "      <td>0.0</td>\n",
       "      <td>0.0</td>\n",
       "      <td>0.0</td>\n",
       "      <td>0.0</td>\n",
       "      <td>0.0</td>\n",
       "      <td>0.0</td>\n",
       "      <td>0.0</td>\n",
       "      <td>0.0</td>\n",
       "      <td>0.0</td>\n",
       "    </tr>\n",
       "    <tr>\n",
       "      <th>...</th>\n",
       "      <th>...</th>\n",
       "      <td>...</td>\n",
       "      <td>...</td>\n",
       "      <td>...</td>\n",
       "      <td>...</td>\n",
       "      <td>...</td>\n",
       "      <td>...</td>\n",
       "      <td>...</td>\n",
       "      <td>...</td>\n",
       "      <td>...</td>\n",
       "      <td>...</td>\n",
       "      <td>...</td>\n",
       "      <td>...</td>\n",
       "      <td>...</td>\n",
       "      <td>...</td>\n",
       "      <td>...</td>\n",
       "      <td>...</td>\n",
       "      <td>...</td>\n",
       "      <td>...</td>\n",
       "      <td>...</td>\n",
       "      <td>...</td>\n",
       "      <td>...</td>\n",
       "    </tr>\n",
       "    <tr>\n",
       "      <th rowspan=\"5\" valign=\"top\">99</th>\n",
       "      <th>92</th>\n",
       "      <td>0.0</td>\n",
       "      <td>0.0</td>\n",
       "      <td>0.0</td>\n",
       "      <td>0.0</td>\n",
       "      <td>0.0</td>\n",
       "      <td>0.0</td>\n",
       "      <td>0.0</td>\n",
       "      <td>0.0</td>\n",
       "      <td>0.0</td>\n",
       "      <td>0.0</td>\n",
       "      <td>...</td>\n",
       "      <td>0.0</td>\n",
       "      <td>0.0</td>\n",
       "      <td>0.0</td>\n",
       "      <td>0.0</td>\n",
       "      <td>0.0</td>\n",
       "      <td>0.0</td>\n",
       "      <td>0.0</td>\n",
       "      <td>0.0</td>\n",
       "      <td>0.0</td>\n",
       "      <td>0.0</td>\n",
       "    </tr>\n",
       "    <tr>\n",
       "      <th>93</th>\n",
       "      <td>0.0</td>\n",
       "      <td>0.0</td>\n",
       "      <td>0.0</td>\n",
       "      <td>0.0</td>\n",
       "      <td>0.0</td>\n",
       "      <td>0.0</td>\n",
       "      <td>0.0</td>\n",
       "      <td>0.0</td>\n",
       "      <td>0.0</td>\n",
       "      <td>0.0</td>\n",
       "      <td>...</td>\n",
       "      <td>0.0</td>\n",
       "      <td>0.0</td>\n",
       "      <td>0.0</td>\n",
       "      <td>0.0</td>\n",
       "      <td>0.0</td>\n",
       "      <td>0.0</td>\n",
       "      <td>0.0</td>\n",
       "      <td>0.0</td>\n",
       "      <td>0.0</td>\n",
       "      <td>0.0</td>\n",
       "    </tr>\n",
       "    <tr>\n",
       "      <th>94</th>\n",
       "      <td>0.0</td>\n",
       "      <td>0.0</td>\n",
       "      <td>0.0</td>\n",
       "      <td>0.0</td>\n",
       "      <td>0.0</td>\n",
       "      <td>0.0</td>\n",
       "      <td>0.0</td>\n",
       "      <td>0.0</td>\n",
       "      <td>0.0</td>\n",
       "      <td>0.0</td>\n",
       "      <td>...</td>\n",
       "      <td>0.0</td>\n",
       "      <td>0.0</td>\n",
       "      <td>0.0</td>\n",
       "      <td>0.0</td>\n",
       "      <td>0.0</td>\n",
       "      <td>0.0</td>\n",
       "      <td>0.0</td>\n",
       "      <td>0.0</td>\n",
       "      <td>0.0</td>\n",
       "      <td>0.0</td>\n",
       "    </tr>\n",
       "    <tr>\n",
       "      <th>95</th>\n",
       "      <td>0.0</td>\n",
       "      <td>0.0</td>\n",
       "      <td>0.0</td>\n",
       "      <td>0.0</td>\n",
       "      <td>0.0</td>\n",
       "      <td>0.0</td>\n",
       "      <td>0.0</td>\n",
       "      <td>0.0</td>\n",
       "      <td>0.0</td>\n",
       "      <td>0.0</td>\n",
       "      <td>...</td>\n",
       "      <td>0.0</td>\n",
       "      <td>0.0</td>\n",
       "      <td>0.0</td>\n",
       "      <td>0.0</td>\n",
       "      <td>0.0</td>\n",
       "      <td>0.0</td>\n",
       "      <td>0.0</td>\n",
       "      <td>0.0</td>\n",
       "      <td>0.0</td>\n",
       "      <td>0.0</td>\n",
       "    </tr>\n",
       "    <tr>\n",
       "      <th>96</th>\n",
       "      <td>0.0</td>\n",
       "      <td>0.0</td>\n",
       "      <td>0.0</td>\n",
       "      <td>0.0</td>\n",
       "      <td>0.0</td>\n",
       "      <td>0.0</td>\n",
       "      <td>0.0</td>\n",
       "      <td>0.0</td>\n",
       "      <td>0.0</td>\n",
       "      <td>0.0</td>\n",
       "      <td>...</td>\n",
       "      <td>0.0</td>\n",
       "      <td>0.0</td>\n",
       "      <td>0.0</td>\n",
       "      <td>0.0</td>\n",
       "      <td>0.0</td>\n",
       "      <td>0.0</td>\n",
       "      <td>0.0</td>\n",
       "      <td>0.0</td>\n",
       "      <td>0.0</td>\n",
       "      <td>0.0</td>\n",
       "    </tr>\n",
       "  </tbody>\n",
       "</table>\n",
       "<p>9600 rows × 830 columns</p>\n",
       "</div>"
      ],
      "text/plain": [
       "               16675991_16676063  16675991_16676126  16675991_16676131  \\\n",
       "Sample period                                                            \n",
       "0      1                     0.0                0.0                0.0   \n",
       "       2                     0.0                0.0                0.0   \n",
       "       3                     0.0                0.0                0.0   \n",
       "       4                     0.0                0.0                0.0   \n",
       "       5                     0.0                0.0                0.0   \n",
       "...                          ...                ...                ...   \n",
       "99     92                    0.0                0.0                0.0   \n",
       "       93                    0.0                0.0                0.0   \n",
       "       94                    0.0                0.0                0.0   \n",
       "       95                    0.0                0.0                0.0   \n",
       "       96                    0.0                0.0                0.0   \n",
       "\n",
       "               16675991_16676179  16675991_16676307  16675991_16676575  \\\n",
       "Sample period                                                            \n",
       "0      1                     0.0                0.0                0.0   \n",
       "       2                     0.0                0.0                0.0   \n",
       "       3                     0.0                0.0                0.0   \n",
       "       4                     0.0                0.0                0.0   \n",
       "       5                     0.0                0.0                0.0   \n",
       "...                          ...                ...                ...   \n",
       "99     92                    0.0                0.0                0.0   \n",
       "       93                    0.0                0.0                0.0   \n",
       "       94                    0.0                0.0                0.0   \n",
       "       95                    0.0                0.0                0.0   \n",
       "       96                    0.0                0.0                0.0   \n",
       "\n",
       "               16675991_16676578  16675991_16676581  16675991_16676600  \\\n",
       "Sample period                                                            \n",
       "0      1                     0.0                0.0                0.0   \n",
       "       2                     0.0                0.0                0.0   \n",
       "       3                     0.0                0.0                0.0   \n",
       "       4                     0.0                0.0                0.0   \n",
       "       5                     0.0                0.0                0.0   \n",
       "...                          ...                ...                ...   \n",
       "99     92                    0.0                0.0                0.0   \n",
       "       93                    0.0                0.0                0.0   \n",
       "       94                    0.0                0.0                0.0   \n",
       "       95                    0.0                0.0                0.0   \n",
       "       96                    0.0                0.0                0.0   \n",
       "\n",
       "               16675991_16676625  ...  16676628_16676116  16676628_16676126  \\\n",
       "Sample period                     ...                                         \n",
       "0      1                     0.0  ...                0.0                0.0   \n",
       "       2                     0.0  ...                0.0                0.0   \n",
       "       3                     0.0  ...                0.0                0.0   \n",
       "       4                     0.0  ...                0.0                0.0   \n",
       "       5                     0.0  ...                0.0                0.0   \n",
       "...                          ...  ...                ...                ...   \n",
       "99     92                    0.0  ...                0.0                0.0   \n",
       "       93                    0.0  ...                0.0                0.0   \n",
       "       94                    0.0  ...                0.0                0.0   \n",
       "       95                    0.0  ...                0.0                0.0   \n",
       "       96                    0.0  ...                0.0                0.0   \n",
       "\n",
       "               16676628_16676131  16676628_16676156  16676628_16676575  \\\n",
       "Sample period                                                            \n",
       "0      1                     0.0                0.0                0.0   \n",
       "       2                     0.0                0.0                0.0   \n",
       "       3                     0.0                0.0                0.0   \n",
       "       4                     0.0                0.0                0.0   \n",
       "       5                     0.0                0.0                0.0   \n",
       "...                          ...                ...                ...   \n",
       "99     92                    0.0                0.0                0.0   \n",
       "       93                    0.0                0.0                0.0   \n",
       "       94                    0.0                0.0                0.0   \n",
       "       95                    0.0                0.0                0.0   \n",
       "       96                    0.0                0.0                0.0   \n",
       "\n",
       "               16676628_16676578  16676628_16676581  16676628_16676600  \\\n",
       "Sample period                                                            \n",
       "0      1                     0.0                0.0                0.0   \n",
       "       2                     0.0                0.0                0.0   \n",
       "       3                     0.0                0.0                0.0   \n",
       "       4                     0.0                0.0                0.0   \n",
       "       5                     0.0                0.0                0.0   \n",
       "...                          ...                ...                ...   \n",
       "99     92                    0.0                0.0                0.0   \n",
       "       93                    0.0                0.0                0.0   \n",
       "       94                    0.0                0.0                0.0   \n",
       "       95                    0.0                0.0                0.0   \n",
       "       96                    0.0                0.0                0.0   \n",
       "\n",
       "               16676628_16676623  16676628_16676625  \n",
       "Sample period                                        \n",
       "0      1                     0.0                0.0  \n",
       "       2                     0.0                0.0  \n",
       "       3                     0.0                0.0  \n",
       "       4                     0.0                0.0  \n",
       "       5                     0.0                0.0  \n",
       "...                          ...                ...  \n",
       "99     92                    0.0                0.0  \n",
       "       93                    0.0                0.0  \n",
       "       94                    0.0                0.0  \n",
       "       95                    0.0                0.0  \n",
       "       96                    0.0                0.0  \n",
       "\n",
       "[9600 rows x 830 columns]"
      ]
     },
     "execution_count": 97,
     "metadata": {},
     "output_type": "execute_result"
    }
   ],
   "source": [
    "X1 = pd.read_csv(dir + os.sep + \"OD8.csv\", index_col = [0,1], header = [0]).astype('float32')\n",
    "#X2 = pd.read_csv(dir1 + os.sep + \"OD5.csv\", index_col = [0,1], header = [0]).astype('float32')\n",
    "#X2.index = pd.MultiIndex.from_tuples([(x + 100, y) for x, y in X2.index])\n",
    "#X1 = pd.concat([X1, X2])\n",
    "X1 = X1.replace(np.nan, 0)\n",
    "non_zero_columns = X1.columns[X1.ne(0).any()]\n",
    "X1 = X1[non_zero_columns]\n",
    "#X1.index.name = ['Sample', 'period']\n",
    "new_index = X1.copy(deep= True).index.set_names(['Sample', 'period'])\n",
    "X1.index = new_index\n",
    "unique_ids = X1.index.get_level_values('Sample').unique()\n",
    "#shuffled_ids = np.random.permutation(unique_ids)\n",
    "#pd.DataFrame(shuffled_ids).to_csv('shuffledids.csv')\n",
    "# Create a new MultiIndex with the shuffled values\n",
    "#new_index = X1.index.set_levels(shuffled_ids, level='Sample')\n",
    "X1.index = new_index\n",
    "X1"
   ]
  },
  {
   "cell_type": "code",
   "execution_count": 98,
   "metadata": {},
   "outputs": [],
   "source": [
    "X1_training = X1[X1.index.get_level_values(0).isin(training_days)]\n",
    "X1_testing = X1[X1.index.get_level_values(0).isin(testing_days)]"
   ]
  },
  {
   "cell_type": "code",
   "execution_count": 99,
   "metadata": {},
   "outputs": [],
   "source": [
    "Y1 = pd.read_csv(dir + os.sep + r\"Volume_P8.csv\", index_col = [0,1]).astype('float64')\n",
    "#Y1_2 = pd.read_csv(dir1 + os.sep + r\"Volume_P5.csv\", index_col = [0,1]).astype('float64')\n",
    "#Y1_2.index = pd.MultiIndex.from_tuples([(x + 100, y) for x, y in Y1_2.index])\n",
    "#Y1 = pd.concat([Y1_2, Y1])\n",
    "Y1 = Y1.replace(np.nan, 0)\n",
    "non_zero_columns = Y1.columns[Y1.ne(0).any()]\n",
    "Y1 = Y1[non_zero_columns]\n",
    "new_index = Y1.copy(deep= True).index.set_names(['Sample', 'period'])\n",
    "Y1.index = new_index\n",
    "Y1 = Y1\n",
    "Y1 = Y1.reindex(X1.index)\n",
    "Y1 = Y1.replace(np.nan, 0)\n"
   ]
  },
  {
   "cell_type": "code",
   "execution_count": 100,
   "metadata": {},
   "outputs": [],
   "source": [
    "Y2 = pd.read_csv(dir + os.sep + r\"Speed_P8.csv\", index_col = [0,1]).astype('float64')\n",
    "Y2_2 = pd.read_csv(dir1 + os.sep + r\"Speed_P5.csv\", index_col = [0,1]).astype('float64')\n",
    "Y2_2.index = pd.MultiIndex.from_tuples([(x + 100, y) for x, y in Y1_2.index])\n",
    "Y2 = pd.concat([Y1_2, Y2])\n",
    "non_zero_columns = Y2.columns[Y2.ne(0).any()]\n",
    "Y2 = Y2[Y1.columns]\n",
    "new_index = Y2.copy(deep= True).index.set_names(['Sample', 'period'])\n",
    "Y2.index = new_index\n",
    "Y2 = Y2.reindex(X1.index)\n",
    "Y2 = Y2.replace(np.nan, 0)"
   ]
  },
  {
   "cell_type": "code",
   "execution_count": 101,
   "metadata": {},
   "outputs": [],
   "source": [
    "Y1_training = Y1[Y1.index.get_level_values(0).isin(training_days)]\n",
    "Y1_testing = Y1[Y1.index.get_level_values(0).isin(testing_days)]\n",
    "Y2_training = Y2[Y2.index.get_level_values(0).isin(training_days)]\n",
    "Y2_testing = Y2[Y2.index.get_level_values(0).isin(testing_days)]"
   ]
  },
  {
   "cell_type": "code",
   "execution_count": 103,
   "metadata": {},
   "outputs": [],
   "source": [
    "R_fxy = pd.read_csv(dir + os.sep + \"Assignment8.csv\", index_col = 0, header = [0]).astype('float64')\n",
    "R_fxy2 = pd.read_csv(dir1 + os.sep + \"Assignment5.csv\", index_col = 0, header = [0]).astype('float64')\n",
    "R_fxy = R_fxy.div( R_fxy.sum(axis = 1), axis = 0)\n",
    "R_fxy = R_fxy.replace(np.nan, 0)\n",
    "R_fxy = R_fxy.replace(np.inf, 0)\n",
    "for column in Y1.columns:\n",
    "    # Check if the column exists in the DataFrame\n",
    "    if column not in R_fxy.columns:\n",
    "        # Add the column and fill with 0\n",
    "        R_fxy[column] = 0\n",
    "R_fxy = R_fxy.T\n",
    "for column in X1.columns:\n",
    "    # Check if the column exists in the DataFrame\n",
    "    if column not in R_fxy.columns:\n",
    "        # Add the column and fill with 0\n",
    "        R_fxy[column] = 0\n",
    "R_fxy = R_fxy.T\n",
    "R_fxy = (R_fxy+R_fxy2).replace(np.nan, 0)/2\n",
    "R_fxy = R_fxy[Y1.columns].T\n",
    "R_fxy = R_fxy[X1.columns].T\n",
    "R_fxy = R_fxy.replace(np.nan, 0)\n",
    "R_fxy = R_fxy.replace(np.inf, 0)"
   ]
  },
  {
   "cell_type": "code",
   "execution_count": 104,
   "metadata": {},
   "outputs": [
    {
     "data": {
      "text/plain": [
       "6224.664011244753"
      ]
     },
     "execution_count": 104,
     "metadata": {},
     "output_type": "execute_result"
    }
   ],
   "source": [
    "common_ODs = R_fxy.index.to_list()\n",
    "common_links = R_fxy.columns.to_list()\n",
    "X1 = X1[common_ODs]\n",
    "Y1 = Y1[common_links]\n",
    "Y2 = Y2[common_links]\n",
    "R_fxy = R_fxy.T\n",
    "R_fxy = R_fxy[common_ODs].T[common_links].T\n",
    "R_fxy = R_fxy.replace(np.nan, 0)\n",
    "R_fxy.sum().sum()"
   ]
  },
  {
   "cell_type": "markdown",
   "metadata": {},
   "source": [
    "# Converting Matrices into Sparse Matrices"
   ]
  },
  {
   "cell_type": "markdown",
   "metadata": {},
   "source": [
    "X1_scale = pd.DataFrame(X1.max(axis = 0))\n",
    "Y1_scale = pd.DataFrame(Y1.max(axis = 0))\n",
    "Y2_scale = pd.DataFrame(Y2.max(axis = 0))"
   ]
  },
  {
   "cell_type": "markdown",
   "metadata": {},
   "source": [
    "X1_r = X1/X1.max(axis = 0)\n",
    "Y1_r = Y1/Y1.max(axis = 0)\n",
    "Y2_r = Y2/Y2.max(axis = 0)"
   ]
  },
  {
   "cell_type": "markdown",
   "metadata": {},
   "source": [
    "from cupyx.scipy.sparse import diags, kron, csr_matrix\n",
    "import cupy as cp\n",
    "X1_cp = csr_matrix(cp.asarray(np.array((X1/X1.max(axis = 0)).T)))\n",
    "Y1_cp = csr_matrix(cp.asarray(np.array((Y1/Y1.max(axis = 0)).T)))\n",
    "Y2_cp = csr_matrix(cp.asarray(np.array((Y2/Y2.max(axis = 0)).T)))\n",
    "\n",
    "R_fxy_cp = csr_matrix(cp.asarray(np.array(R_fxy)))"
   ]
  },
  {
   "cell_type": "code",
   "execution_count": 105,
   "metadata": {},
   "outputs": [],
   "source": [
    "from cupyx.scipy.sparse import diags, kron, csr_matrix\n",
    "import cupy as cp\n",
    "X1_cp = cp.asarray(np.array((X1_training).T))\n",
    "Y1_cp = cp.asarray(np.array((Y1_training).T))\n",
    "Y2_cp = cp.asarray(np.array((Y2).T))\n",
    "\n",
    "R_fxy_cp = cp.asarray(np.array(R_fxy))"
   ]
  },
  {
   "cell_type": "code",
   "execution_count": 106,
   "metadata": {},
   "outputs": [
    {
     "data": {
      "text/plain": [
       "6224.664011244753"
      ]
     },
     "execution_count": 106,
     "metadata": {},
     "output_type": "execute_result"
    }
   ],
   "source": [
    "R_fxy.sum().sum()"
   ]
  },
  {
   "cell_type": "code",
   "execution_count": 107,
   "metadata": {},
   "outputs": [],
   "source": [
    "Traffic_datasets = [Y1_cp ]#, Y2_cp]\n",
    "Y_cp = {}\n",
    "Y_cp = {index: dataset for index, dataset in enumerate(Traffic_datasets)}"
   ]
  },
  {
   "cell_type": "code",
   "execution_count": 108,
   "metadata": {},
   "outputs": [],
   "source": [
    "R_fxy_cp = R_fxy_cp.T"
   ]
  },
  {
   "cell_type": "markdown",
   "metadata": {},
   "source": [
    "# Initializing the solution  \n",
    "1. r_x = Rank of factorization for X\n",
    "2. r_y = Rank of Factorization for Y"
   ]
  },
  {
   "cell_type": "code",
   "execution_count": 109,
   "metadata": {},
   "outputs": [],
   "source": [
    "r_x = 40\n",
    "r_y = 40\n",
    "U_x =  cp.random.rand(X1_cp.shape[0],r_x)\n",
    "V_x =  cp.random.rand(X1_cp.shape[1],r_x)\n",
    "U_y = cp.random.rand(Y1_cp.shape[0],r_y)\n",
    "A_fxy = cp.random.rand(r_x,r_y)\n",
    "V_y = {}\n",
    "for i in Y_cp.keys():\n",
    "    V_y[i] = cp.random.rand(Y_cp[i].shape[1],r_y)"
   ]
  },
  {
   "cell_type": "code",
   "execution_count": 110,
   "metadata": {},
   "outputs": [
    {
     "data": {
      "text/plain": [
       "(17938192.0, 0.057459348482602715, 0.0782136563858995, 2881.792811241691)"
      ]
     },
     "execution_count": 110,
     "metadata": {},
     "output_type": "execute_result"
    }
   ],
   "source": [
    "X1.sum().sum(), X1.sum().sum()/Y1.sum().sum(), X1.sum().sum()/Y2.sum().sum(), X1.sum().sum()/R_fxy.sum().sum()"
   ]
  },
  {
   "cell_type": "code",
   "execution_count": 111,
   "metadata": {},
   "outputs": [
    {
     "data": {
      "text/plain": [
       "(17938192.0, 0.057459348482602715, 0.0782136563858995, 2881.792811241691)"
      ]
     },
     "execution_count": 111,
     "metadata": {},
     "output_type": "execute_result"
    }
   ],
   "source": [
    "X1.sum().sum(), X1.sum().sum()/Y1.sum().sum(), X1.sum().sum()/Y2.sum().sum(), X1.sum().sum()/R_fxy.sum().sum()"
   ]
  },
  {
   "cell_type": "code",
   "execution_count": 112,
   "metadata": {},
   "outputs": [],
   "source": [
    "Lamb_inter = .00001 * X1.sum().sum()/R_fxy.sum().sum()\n",
    "Lamb_Y = [.1* X1.sum().sum()/Y1.sum().sum(), .1* X1.sum().sum()/Y2.sum().sum()]\n",
    "Lamb_sparsity =.0000000001\n",
    "e = 0.000000001"
   ]
  },
  {
   "cell_type": "code",
   "execution_count": 113,
   "metadata": {},
   "outputs": [
    {
     "data": {
      "text/plain": [
       "(cupy.ndarray,\n",
       " cupy.ndarray,\n",
       " cupy.ndarray,\n",
       " pandas.core.frame.DataFrame,\n",
       " pandas.core.frame.DataFrame)"
      ]
     },
     "execution_count": 113,
     "metadata": {},
     "output_type": "execute_result"
    }
   ],
   "source": [
    "U_x.shape, R_fxy_cp.shape, U_y.shape, Y1.shape, X1.shape\n",
    "type(U_x), type(R_fxy_cp), type(U_y), type(Y1), type(X1)"
   ]
  },
  {
   "cell_type": "code",
   "execution_count": 114,
   "metadata": {},
   "outputs": [
    {
     "data": {
      "text/plain": [
       "0.028817928112416916"
      ]
     },
     "execution_count": 114,
     "metadata": {},
     "output_type": "execute_result"
    }
   ],
   "source": [
    "Lamb_inter"
   ]
  },
  {
   "cell_type": "code",
   "execution_count": 115,
   "metadata": {},
   "outputs": [
    {
     "data": {
      "text/plain": [
       "((7968, 40), (416, 40))"
      ]
     },
     "execution_count": 115,
     "metadata": {},
     "output_type": "execute_result"
    }
   ],
   "source": [
    "V_y[i].shape, U_y.shape"
   ]
  },
  {
   "cell_type": "code",
   "execution_count": 116,
   "metadata": {},
   "outputs": [],
   "source": [
    "import random\n"
   ]
  },
  {
   "cell_type": "code",
   "execution_count": 117,
   "metadata": {},
   "outputs": [
    {
     "name": "stdout",
     "output_type": "stream",
     "text": [
      "Cupy is using 1 CUDA device(s).\n",
      "Device 0: b'NVIDIA RTX A4000'\n"
     ]
    }
   ],
   "source": [
    "import cupy as cp\n",
    "\n",
    "# Get the number of available CUDA devices\n",
    "device_count = cp.cuda.runtime.getDeviceCount()\n",
    "\n",
    "if device_count > 0:\n",
    "    print(f\"Cupy is using {device_count} CUDA device(s).\")\n",
    "    for device_id in range(device_count):\n",
    "        device_properties = cp.cuda.runtime.getDeviceProperties(device_id)\n",
    "        print(f\"Device {device_id}: {device_properties['name']}\")\n",
    "else:\n",
    "    print(\"No CUDA devices found. Cupy is using the CPU.\")"
   ]
  },
  {
   "cell_type": "code",
   "execution_count": 118,
   "metadata": {},
   "outputs": [],
   "source": [
    "A_fxy = cp.eye(A_fxy.shape[0])"
   ]
  },
  {
   "cell_type": "code",
   "execution_count": 119,
   "metadata": {},
   "outputs": [],
   "source": [
    "epsilon = 0.000000001"
   ]
  },
  {
   "cell_type": "code",
   "execution_count": 123,
   "metadata": {
    "scrolled": true
   },
   "outputs": [
    {
     "name": "stdout",
     "output_type": "stream",
     "text": [
      "0 259836028.4164546\n",
      "0 0.9631 [5.85] 2.673\n",
      "50 259834264.0440308\n",
      "50 0.9628 [5.846] 2.6544\n",
      "100 259832547.2639077\n",
      "100 0.9624 [5.8421] 2.6361\n",
      "150 259831019.97215903\n",
      "150 0.9621 [5.8384] 2.6183\n",
      "200 259829924.9734289\n",
      "200 0.9617 [5.8347] 2.6008\n",
      "250 259828471.83815396\n",
      "250 0.9613 [5.8311] 2.5836\n",
      "300 259827128.2550925\n",
      "300 0.961 [5.8277] 2.5668\n",
      "350 259825849.3310663\n",
      "350 0.9606 [5.8244] 2.5504\n",
      "400 259824534.84241608\n",
      "400 0.9602 [5.8211] 2.5342\n",
      "450 259823192.81426784\n",
      "450 0.9598 [5.8179] 2.5184\n",
      "500 259821863.0495357\n",
      "500 0.9595 [5.8149] 2.5029\n",
      "550 259820717.30554682\n",
      "550 0.9591 [5.8119] 2.4877\n",
      "600 259819584.22954208\n",
      "600 0.9587 [5.8089] 2.4727\n",
      "650 259818132.92271227\n",
      "650 0.9584 [5.8061] 2.4579\n",
      "700 259816661.61491373\n",
      "700 0.9581 [5.8033] 2.4435\n",
      "750 259815225.94522017\n",
      "750 0.9577 [5.8007] 2.4292\n",
      "800 259813846.33263937\n",
      "800 0.9574 [5.798] 2.4152\n",
      "850 259812517.8758575\n",
      "850 0.9571 [5.7955] 2.4014\n",
      "900 259811178.78868192\n",
      "900 0.9568 [5.793] 2.3879\n",
      "950 259809839.73800084\n",
      "950 0.9564 [5.7905] 2.3746\n",
      "1000 259808461.6887914\n",
      "1000 0.9561 [5.7882] 2.3614\n",
      "1050 259807075.05046952\n",
      "1050 0.9558 [5.7858] 2.3485\n",
      "1100 259805686.18834993\n",
      "1100 0.9554 [5.7836] 2.3358\n",
      "1150 259804300.05208412\n",
      "1150 0.9551 [5.7813] 2.3232\n",
      "1200 259802930.6508656\n",
      "1200 0.9549 [5.7792] 2.3108\n",
      "1250 259801605.93214712\n",
      "1250 0.9546 [5.777] 2.2986\n",
      "1300 259800667.07417998\n",
      "1300 0.9543 [5.7749] 2.2865\n",
      "1350 259799412.68605235\n",
      "1350 0.954 [5.7729] 2.2746\n",
      "1400 259798270.59829015\n",
      "1400 0.9537 [5.7709] 2.2629\n",
      "1450 259797192.5145695\n",
      "1450 0.9535 [5.7689] 2.2514\n"
     ]
    }
   ],
   "source": [
    "Save_results = []\n",
    "for iteration in range (0, 1500):\n",
    "    aa = time.time()\n",
    "\n",
    "    #.................................................\n",
    "    U_x_batch = U_x.shape[0] // 1\n",
    "    U_y_batch = U_y.shape[0] // 1\n",
    "    V_batch = V_x.shape[0] //1\n",
    "    U_x_list = list(range(U_x.shape[0]))\n",
    "    U_y_list = list(range(U_y.shape[0]))\n",
    "    V_list = list(range(V_x.shape[0]))\n",
    "    U_x_sampling = random.sample(U_x_list, U_x_batch)\n",
    "    U_y_sampling = random.sample(U_y_list, U_y_batch)\n",
    "    V_sampling = random.sample(V_list, V_batch)\n",
    "    \n",
    "    \n",
    "    U_x_sampled = U_x[U_x_sampling, :]\n",
    "    U_y_sampled = U_y[U_y_sampling, :]\n",
    "    R_fxy_cp_sampled = R_fxy_cp[U_x_sampling, :][:,U_y_sampling ]\n",
    "    V_x_sampled = V_x[V_sampling, :]\n",
    "    V_sampled = {}\n",
    "    for i in V_y.keys():\n",
    "        V_sampled[i] = V_y[i][V_sampling, :]\n",
    "    X1_cp_sampled = X1_cp[U_x_sampling, ][:, V_sampling]\n",
    "    #R_fxy_sampled = R_fxy_cp[U_x_Sampling, ][:, U_y_Sampling]\n",
    "    Y_sampled = {}\n",
    "    for i in V_y.keys():\n",
    "        Y_sampled[i] = Y_cp[i][U_y_sampling, ][:,V_sampling ]\n",
    "\n",
    "    #print('1', time.time() - aa)\n",
    "    #................................................\n",
    "    if iteration%50 == 0:\n",
    "        print(iteration, U_y.dot(V_y[0].T).sum().sum())\n",
    "        rmse_X1 = calculate_rmse(X1_cp_sampled.get(), U_x_sampled.get().dot(V_x_sampled.get().T))\n",
    "        rmse_Y = []\n",
    "        for i in V_y.keys():\n",
    "            rec = U_y_sampled.dot(V_sampled[i].T)\n",
    "            RM = calculate_rmse(Y_sampled[i].get(), rec.get())\n",
    "            rmse_Y.append(RM)\n",
    "        rmse_Relationship = calculate_rmse(R_fxy_cp_sampled.get(), U_x_sampled .get().dot(A_fxy.get()).dot(U_y_sampled.get().T))\n",
    "        Save_results.append([iteration, rmse_X1, rmse_Y, rmse_Relationship])\n",
    "        print(iteration, rmse_X1, rmse_Y, rmse_Relationship)\n",
    "    #print('2', time.time() - aa)\n",
    "    '''\n",
    "    numerator_e = U_x_sampled.T.dot(R_fxy_cp_sampled.dot(U_y_sampled))+ 0.0000000001\n",
    "    denominator_e = U_x_sampled.T.dot(U_x_sampled.dot(A_fxy.dot(U_y_sampled.T.dot(U_y_sampled)))) + Lamb_sparsity* A_fxy+ 0.0000000001\n",
    "    second_term_e = (numerator_e)/(denominator_e)\n",
    "    A_fxy = A_fxy * (second_term_e)\n",
    "\n",
    "    type(A_fxy)\n",
    "    '''\n",
    "    #print('3', time.time() - aa)\n",
    "    #Updating Ux\n",
    "    numerator_f = (X1_cp_sampled.dot(V_x_sampled)) + (Lamb_inter * R_fxy_cp_sampled.dot(U_y_sampled.dot(A_fxy.T)))  + 0.0000000001\n",
    "    denominator_f = (U_x_sampled.dot(V_x_sampled.T.dot(V_x_sampled))) + (Lamb_inter * U_x_sampled.dot(A_fxy.dot(U_y_sampled.T.dot(U_y_sampled.dot(A_fxy.T))))) + Lamb_sparsity* U_x_sampled + + 0.0000000001\n",
    "    second_term_f = (numerator_f/denominator_f)\n",
    "    U_x[U_x_sampling, ] = (U_x_sampled) * (second_term_f)\n",
    "\n",
    "    #print('4', time.time() - aa)\n",
    "    #Updating Vx\n",
    "    \n",
    "    numerator_c = (X1_cp_sampled.T.dot(U_x_sampled))  + 0.0000000001\n",
    "    denominator_c = (V_x_sampled.dot(U_x_sampled.T.dot(U_x_sampled))) + Lamb_sparsity* V_x_sampled   + 0.0000000001\n",
    "    second_term_c =  (numerator_c/denominator_c) \n",
    "    \n",
    "    V_x[V_sampling, ] = (V_x_sampled) * (second_term_c)\n",
    "\n",
    "    #print('5', time.time() - aa)\n",
    "    \n",
    "    for i in Y_cp.keys():\n",
    "        if i == 0:\n",
    "            numerator_g = Lamb_Y[i] * Y_sampled[i].dot(V_sampled[i]) + 0.0000000001\n",
    "            denominator_g = Lamb_Y[i] * U_y_sampled.dot(V_sampled[i].T.dot(V_sampled[i])) + + 0.0000000001\n",
    "            #print(U_y.dot(V_sampled[i].T.dot(V_sampled[i])).shape, type(denominator_g))\n",
    "        if i>0:\n",
    "            numerator_g = numerator_g + Lamb_Y[i] * Y_sampled[i].dot(V_sampled[i]) \n",
    "            #print(type(U_y.dot(V_sampled[i].T.dot(V_sampled[i]))), denominator_g.shape, U_y.dot(V_sampled[i].T.dot(V_sampled[i])).shape)\n",
    "            denominator_g = denominator_g + Lamb_Y[i] * U_y_sampled.dot(V_sampled[i].T.dot(V_sampled[i]))\n",
    "    \n",
    "    numerator_g = numerator_g + Lamb_inter * R_fxy_cp_sampled.T.dot(U_x_sampled.dot(A_fxy))\n",
    "    denominator_g = denominator_g + Lamb_inter * U_y_sampled.dot(A_fxy.T.dot(U_x_sampled.T.dot(U_x_sampled.dot(A_fxy)))) + Lamb_sparsity* U_y_sampled\n",
    "            \n",
    "    second_term_g = (numerator_g/denominator_g)\n",
    "    \n",
    "    U_y[U_y_sampling, ] = (U_y_sampled)* (second_term_g)\n",
    "\n",
    "\n",
    "    #print('5', time.time() - aa)\n",
    "    for i in V_y.keys():\n",
    "        numerator_d = (Lamb_Y[i] * Y_sampled[i].T.dot(U_y_sampled))+ 0.0000000001\n",
    "        denominator_d = (Lamb_Y[i] * V_sampled[i].dot(U_y_sampled.T.dot(U_y_sampled)))  + Lamb_sparsity* V_sampled[i]+ 0.0000000001\n",
    "        second_term_d = (numerator_d/denominator_d)\n",
    "        V_y[i][V_sampling, ] = (V_sampled[i])* (second_term_d)\n",
    "\n",
    "\n",
    "    #print('7', time.time() - aa)"
   ]
  },
  {
   "cell_type": "code",
   "execution_count": 124,
   "metadata": {
    "scrolled": true
   },
   "outputs": [],
   "source": [
    "pd.DataFrame(U_x.get(), index = X1_training.columns).to_csv('U_x_JAIDR40M.csv')\n",
    "pd.DataFrame(V_x.get(), index = X1_training.index).to_csv('V_x_JAIDR40M.csv')\n",
    "pd.DataFrame(U_y.get(), index = Y1_training.columns).to_csv('U_y_JAIDR40M.csv')\n",
    "pd.DataFrame(V_y[0].get(), index = Y1_training.index).to_csv('V_y1_JAIDR40M.csv')\n",
    "#pd.DataFrame(V_y[1].get(), index = Y1_training.index).to_csv('V_y2_JAIDR40M.csv')\n",
    "pd.DataFrame(A_fxy.get()).to_csv('Afxy_JAIDR20M.csv')\n"
   ]
  },
  {
   "cell_type": "code",
   "execution_count": 125,
   "metadata": {},
   "outputs": [],
   "source": [
    "X1_training.to_csv(r'X1_training.csv')\n",
    "Y1_training.to_csv(r'Y1_training.csv')\n",
    "Y2_training.to_csv(r'Y2_training.csv')\n",
    "X1_testing.to_csv(r'X1_testing.csv')\n",
    "Y1_testing.to_csv(r'Y1_testing.csv')\n",
    "Y2_testing.to_csv(r'Y2_testing.csv')"
   ]
  },
  {
   "cell_type": "code",
   "execution_count": null,
   "metadata": {},
   "outputs": [],
   "source": []
  }
 ],
 "metadata": {
  "kernelspec": {
   "display_name": "Python 3 (ipykernel)",
   "language": "python",
   "name": "python3"
  },
  "language_info": {
   "codemirror_mode": {
    "name": "ipython",
    "version": 3
   },
   "file_extension": ".py",
   "mimetype": "text/x-python",
   "name": "python",
   "nbconvert_exporter": "python",
   "pygments_lexer": "ipython3",
   "version": "3.11.7"
  }
 },
 "nbformat": 4,
 "nbformat_minor": 4
}
